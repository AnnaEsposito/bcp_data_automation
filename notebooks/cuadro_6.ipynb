{
 "cells": [
  {
   "cell_type": "markdown",
   "id": "edcd8ecd",
   "metadata": {},
   "source": [
    "# ANALISIS DEL PIB DEL LADO DE LA OFERTA\n",
    "## PUNTOS A ANÁLIZAR\n",
    " 1. - Participación del PIB por sector en el último y penultimo trimestre. Representar a través de un gráfico de torta.\n",
    " 2. - Variacion Interanual del ultimo trimestre por sector.\n",
    " 3. - Variacion Acumulada del ultimo trimestre por sector."
   ]
  },
  {
   "cell_type": "markdown",
   "id": "ce29a5f5",
   "metadata": {},
   "source": [
    "##### CONFIGURACIONES NECESARIAS"
   ]
  },
  {
   "cell_type": "code",
   "execution_count": 5,
   "id": "5a045f0e",
   "metadata": {},
   "outputs": [],
   "source": [
    "#Para situarnos en el directorio raiz del proyecto y correr adecuadamente el codigo con sus importaciones\n",
    "import sys\n",
    "import os\n",
    "sys.path.append(os.path.abspath(os.path.join(os.getcwd(), \"..\")))\n"
   ]
  },
  {
   "cell_type": "markdown",
   "id": "808f7340",
   "metadata": {},
   "source": [
    "##### IMPORTACION DE LOS DATOS DEL CUADRO 6 "
   ]
  },
  {
   "cell_type": "code",
   "execution_count": 6,
   "id": "73828fca",
   "metadata": {},
   "outputs": [
    {
     "name": "stdout",
     "output_type": "stream",
     "text": [
      "          valor       fecha nombre_actividad nombre_compuesto\n",
      "0  1.097958e+06  1994-03-31      Agricultura             None\n",
      "1  1.049813e+06  1994-06-30      Agricultura             None\n",
      "2  9.771593e+05  1994-09-30      Agricultura             None\n",
      "3  1.160269e+06  1994-12-31      Agricultura             None\n",
      "4  1.385743e+06  1995-03-31      Agricultura             None\n",
      "          valor       fecha nombre_actividad nombre_compuesto\n",
      "0  1.097958e+06  1994-03-31      Agricultura             None\n",
      "1  1.049813e+06  1994-06-30      Agricultura             None\n",
      "2  9.771593e+05  1994-09-30      Agricultura             None\n",
      "3  1.160269e+06  1994-12-31      Agricultura             None\n",
      "4  1.385743e+06  1995-03-31      Agricultura             None\n"
     ]
    }
   ],
   "source": [
    "#Para recargar el modulo (cuando se tengan nuevos datos) se requiere de reload.\n",
    "import importlib\n",
    "import pandas as pd\n",
    "import db.data_extraction as data_extraction\n",
    "\n",
    "importlib.reload(data_extraction)\n",
    "from db.data_extraction import select_cuadro_6\n",
    "df_cuadro_6 = select_cuadro_6()\n",
    "\n"
   ]
  },
  {
   "cell_type": "markdown",
   "id": "4843044b",
   "metadata": {},
   "source": [
    "##### TRANSFORMACION DEL DF: Crear una única columna para clasificar las actividades"
   ]
  },
  {
   "cell_type": "code",
   "execution_count": 7,
   "id": "26a284d8",
   "metadata": {},
   "outputs": [],
   "source": [
    "df_cuadro_6['Actividad_Economica'] = df_cuadro_6['nombre_actividad'].fillna(df_cuadro_6['nombre_compuesto'])"
   ]
  },
  {
   "cell_type": "markdown",
   "id": "10bf7cce",
   "metadata": {},
   "source": [
    "# 1. PARTICIPACION POR SECTOR"
   ]
  },
  {
   "cell_type": "markdown",
   "id": "749115bb",
   "metadata": {},
   "source": [
    "#### LOGICA DEL CALCULO"
   ]
  },
  {
   "cell_type": "code",
   "execution_count": null,
   "id": "e203916b",
   "metadata": {},
   "outputs": [
    {
     "name": "stdout",
     "output_type": "stream",
     "text": [
      "PARTICIPACION DEL ULTIMO TRIMESTRE DISPONIBLE (2024-12-31 00:00:00) EN EL PIB DEL TRIMESTRE: \n",
      "                      Actividad_Economica  Participacion\n",
      "123                           Agricultura       5.536017\n",
      "247  Ganaderia, forestal, pesca y mineria       3.115990\n",
      "371                           Manufactura      19.548502\n",
      "495                   Electricidad y agua       6.915275\n",
      "619                          Construccion       6.139131\n",
      "743                             Servicios      50.643660\n",
      "991             Impuestos a los productos       8.101425\n"
     ]
    }
   ],
   "source": [
    "#Filtrar el dataframe para extraer datos del ultimo trimestre\n",
    "ultimo_trimestre = df_cuadro_6['fecha'].max() \n",
    "df_ultimo_trimestre = df_cuadro_6[df_cuadro_6['fecha'].isin([ultimo_trimestre])] \n",
    "\n",
    "#Extraer el valor del PIB del ultimo trimestre para usarlo como denominador\n",
    "pib_total = df_ultimo_trimestre[df_ultimo_trimestre['Actividad_Economica'] =='PIB a precios de comprador']['valor'].values[0]\n",
    "\n",
    "#Excluir el PIB y VAB de Actividad Economica (para el calculo del coeficinete de participacion)\n",
    "df_actividades = df_ultimo_trimestre[(~df_ultimo_trimestre['Actividad_Economica'].isin(['PIB a precios de comprador', 'Valor agregado bruto']))].copy()\n",
    "\n",
    "#Calcular la participacion de las actividades en el PIB \n",
    "df_actividades['Participacion'] = (df_actividades['valor']/pib_total)*100\n",
    "\n",
    "print(f'PARTICIPACION DEL ULTIMO TRIMESTRE DISPONIBLE ({ultimo_trimestre}) EN EL PIB DEL TRIMESTRE: ')\n",
    "print(df_actividades[['Actividad_Economica','Participacion']])"
   ]
  },
  {
   "cell_type": "markdown",
   "id": "a9618e62",
   "metadata": {},
   "source": [
    "###### DATOS DEL DATAFRAME:"
   ]
  },
  {
   "cell_type": "code",
   "execution_count": null,
   "id": "79aff683",
   "metadata": {},
   "outputs": [
    {
     "name": "stdout",
     "output_type": "stream",
     "text": [
      "['Agricultura' 'Ganaderia, forestal, pesca y mineria' 'Manufactura'\n",
      " 'Electricidad y agua' 'Construccion' 'Servicios' 'Valor agregado bruto'\n",
      " 'Impuestos a los productos' 'PIB a precios de comprador']\n"
     ]
    }
   ],
   "source": [
    "etiquetas=df_ultimo_trimestre['Actividad_Economica'].unique() #identificamos el nombre concreto de las actividades \n",
    "print(etiquetas)"
   ]
  },
  {
   "cell_type": "markdown",
   "id": "7bcd3e5e",
   "metadata": {},
   "source": [
    "# 2. VARIACION INTERANUAL POR SECTOR\n"
   ]
  },
  {
   "cell_type": "code",
   "execution_count": null,
   "id": "baa07986",
   "metadata": {},
   "outputs": [
    {
     "name": "stdout",
     "output_type": "stream",
     "text": [
      "Variacion interanual del ultimo trimestre disponible: (2024-12-31 00:00:00) \n",
      "                    Actividad_Economica  Variacion_interanual\n",
      "0                           Agricultura             -4.254609\n",
      "1  Ganaderia, forestal, pesca y mineria              2.679270\n",
      "2                           Manufactura              3.142439\n",
      "3                   Electricidad y agua             -7.917132\n",
      "4                          Construccion             13.635273\n",
      "5                             Servicios              4.750939\n",
      "6                  Valor agregado bruto              3.223560\n",
      "7             Impuestos a los productos              8.276602\n",
      "8            PIB a precios de comprador              3.615305\n"
     ]
    }
   ],
   "source": [
    "#Filtrar los datos del penultimo trimestre\n",
    "anio_anterior = ultimo_trimestre - pd.DateOffset(years=1)\n",
    "df_penultimo_trimestre = df_cuadro_6[df_cuadro_6['fecha'].isin([anio_anterior])]\n",
    "\n",
    "#Transformar los datos con merge para unir la variacion del ultimo y penultimo periodo por Actividad\n",
    "df_variacion_interanual = df_ultimo_trimestre.merge(df_penultimo_trimestre, on='Actividad_Economica',suffixes=('_actual','_anterior'))\n",
    "\n",
    "#Calcular la variacion interanual por trimestre \n",
    "df_variacion_interanual['Variacion_interanual']= ((df_variacion_interanual['valor_actual']-df_variacion_interanual['valor_anterior'])/df_variacion_interanual['valor_anterior'])*100\n",
    "\n",
    "print(f'Variacion interanual del ultimo trimestre disponible: ({ultimo_trimestre})')\n",
    "print(df_variacion_interanual[['Actividad_Economica', 'Variacion_interanual']])"
   ]
  },
  {
   "cell_type": "markdown",
   "id": "838aa4c7",
   "metadata": {},
   "source": [
    "# 3. VARIACION ACUMULADA POR SECTOR"
   ]
  },
  {
   "cell_type": "code",
   "execution_count": 38,
   "id": "e73e01af",
   "metadata": {},
   "outputs": [
    {
     "name": "stdout",
     "output_type": "stream",
     "text": [
      "Variacion acumulda por actividad para el ultimo trimestre disponible: (2024-12-31 00:00:00)\n",
      "                    Actividad_Economica  Variacion_Acumulada\n",
      "0                           Agricultura             2.776631\n",
      "1                          Construccion             5.265773\n",
      "2                   Electricidad y agua            -6.161906\n",
      "3  Ganaderia, forestal, pesca y mineria             6.386391\n",
      "4             Impuestos a los productos            10.108001\n",
      "5                           Manufactura             4.437338\n",
      "6            PIB a precios de comprador             4.249960\n",
      "7                             Servicios             4.801336\n",
      "8                  Valor agregado bruto             3.768006\n"
     ]
    }
   ],
   "source": [
    "#Filtrar los datos del ultimo anio\n",
    "anio_actual = ultimo_trimestre.year\n",
    "df_anio_actual =df_cuadro_6[df_cuadro_6['fecha'].dt.year.isin([anio_actual])]\n",
    "\n",
    "#Filtrar los datos del penultimo anio\n",
    "df_penultimo_anio = df_cuadro_6[df_cuadro_6['fecha'].dt.year.isin([anio_actual-1])] \n",
    "\n",
    "#Tranformar los datos con groupbay para trabajar con suma de actividad por anio\n",
    "df_acumulado_actual = df_anio_actual.groupby('Actividad_Economica')['valor'].sum().reset_index(name='valor_acumulado_actual')\n",
    "df_acumulado_anterior = df_penultimo_anio.groupby('Actividad_Economica')['valor'].sum().reset_index(name='valor_acumulado_anterior')\n",
    "\n",
    "#Transformamos los nuevos datos calculados con un merge por actividad\n",
    "variacion_acumulada = df_acumulado_actual.merge(df_acumulado_anterior, on= 'Actividad_Economica')\n",
    "\n",
    "#Calculamos la variacion acumulada por actividad\n",
    "variacion_acumulada['Variacion_Acumulada']=((variacion_acumulada['valor_acumulado_actual']-variacion_acumulada['valor_acumulado_anterior'])/variacion_acumulada['valor_acumulado_anterior'])*100\n",
    "\n",
    "\n",
    "print(f'Variacion acumulda por actividad para el ultimo trimestre disponible: ({ultimo_trimestre})')\n",
    "print(variacion_acumulada[['Actividad_Economica','Variacion_Acumulada']])"
   ]
  }
 ],
 "metadata": {
  "kernelspec": {
   "display_name": "venv",
   "language": "python",
   "name": "python3"
  },
  "language_info": {
   "codemirror_mode": {
    "name": "ipython",
    "version": 3
   },
   "file_extension": ".py",
   "mimetype": "text/x-python",
   "name": "python",
   "nbconvert_exporter": "python",
   "pygments_lexer": "ipython3",
   "version": "3.12.10"
  }
 },
 "nbformat": 4,
 "nbformat_minor": 5
}
